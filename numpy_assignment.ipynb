{
 "cells": [
  {
   "cell_type": "code",
   "execution_count": 3,
   "id": "2621de34",
   "metadata": {},
   "outputs": [],
   "source": [
    "import numpy as np"
   ]
  },
  {
   "cell_type": "markdown",
   "id": "9e7b596f",
   "metadata": {},
   "source": [
    "### 1. What is a Python library? Why do we use Python libraries?"
   ]
  },
  {
   "cell_type": "markdown",
   "id": "62e2462f",
   "metadata": {},
   "source": [
    " - A Python library is a collection of functions and modules that extend the capabilities of Python programming language. These libraries are pre-written code that developers can use to perform specific tasks without having to write the code from scratch. Python libraries can range from general-purpose libraries like NumPy for numerical computing and Pandas for data manipulation to specialized libraries like TensorFlow for machine learning and Matplotlib for data visualization."
   ]
  },
  {
   "cell_type": "markdown",
   "id": "02a70f42",
   "metadata": {},
   "source": [
    "### 2. What is the difference between Numpy array and List?"
   ]
  },
  {
   "cell_type": "markdown",
   "id": "c6c5c188",
   "metadata": {},
   "source": [
    "NumPy arrays and Python lists are both used to store collections of data, but they have several differences:\n",
    "\n",
    " - Data Types: NumPy arrays are homogeneous, meaning all elements in the array must be of the same data type (e.g., integers, floats, etc.). In contrast, Python lists can contain elements of different data types.\n",
    "\n",
    " - Memory Efficiency: NumPy arrays are more memory efficient compared to Python lists. This is because NumPy arrays are stored in contiguous memory blocks, whereas Python lists are stored as a collection of pointers to separate objects.\n",
    "\n",
    " - Performance: NumPy arrays offer better performance for numerical operations compared to Python lists. This is because NumPy arrays are implemented in C, which allows for faster execution of mathematical operations. Additionally, NumPy provides optimized functions for array manipulation and mathematical operations.\n",
    "\n",
    "- Functionality: NumPy arrays provide a wide range of mathematical functions and operations for array manipulation, such as element-wise operations, matrix operations, and statistical functions. Python lists do not offer built-in support for these operations, requiring developers to use loops or list comprehensions for similar functionality.\n",
    "\n",
    " - Indexing and Slicing: Both NumPy arrays and Python lists support indexing and slicing. However, NumPy arrays offer more advanced indexing capabilities, such as boolean indexing and fancy indexing, which allow for more flexible and efficient data manipulation."
   ]
  },
  {
   "cell_type": "markdown",
   "id": "8ee5a486",
   "metadata": {},
   "source": [
    "### 3. Find the shape, size and dimension of the following array?"
   ]
  },
  {
   "cell_type": "code",
   "execution_count": 1,
   "id": "4895ee4f",
   "metadata": {},
   "outputs": [],
   "source": [
    "arr = [[1, 2, 3, 4],[5, 6, 7, 8],[9, 10, 11, 12]]"
   ]
  },
  {
   "cell_type": "code",
   "execution_count": 2,
   "id": "db6a8b7b",
   "metadata": {},
   "outputs": [
    {
     "data": {
      "text/plain": [
       "[[1, 2, 3, 4], [5, 6, 7, 8], [9, 10, 11, 12]]"
      ]
     },
     "execution_count": 2,
     "metadata": {},
     "output_type": "execute_result"
    }
   ],
   "source": [
    "arr"
   ]
  },
  {
   "cell_type": "code",
   "execution_count": 5,
   "id": "233e9622",
   "metadata": {},
   "outputs": [
    {
     "name": "stdout",
     "output_type": "stream",
     "text": [
      "The shape of the following array is:  (3, 4)\n",
      "The size of the following array is:  12\n",
      "The dimension of the following array is:  2\n"
     ]
    }
   ],
   "source": [
    "print(\"The shape of the following array is: \", np.shape(arr))\n",
    "print(\"The size of the following array is: \", np.size(arr))\n",
    "print(\"The dimension of the following array is: \", np.ndim(arr))"
   ]
  },
  {
   "cell_type": "markdown",
   "id": "0bfc0a98",
   "metadata": {},
   "source": [
    "### 4. Write python code to access the first row of the following array?"
   ]
  },
  {
   "cell_type": "code",
   "execution_count": 6,
   "id": "9c212b69",
   "metadata": {},
   "outputs": [
    {
     "data": {
      "text/plain": [
       "[[1, 2, 3, 4], [5, 6, 7, 8], [9, 10, 11, 12]]"
      ]
     },
     "execution_count": 6,
     "metadata": {},
     "output_type": "execute_result"
    }
   ],
   "source": [
    "arr = [[1, 2, 3, 4], \n",
    "       [5, 6, 7, 8],\n",
    "       [9, 10, 11, 12]]\n",
    "\n",
    "arr"
   ]
  },
  {
   "cell_type": "code",
   "execution_count": 8,
   "id": "80b0e01f",
   "metadata": {},
   "outputs": [
    {
     "name": "stdout",
     "output_type": "stream",
     "text": [
      "The first row of the following array is: [1, 2, 3, 4]\n"
     ]
    }
   ],
   "source": [
    "print(\"The first row of the following array is:\",arr[0])"
   ]
  },
  {
   "cell_type": "markdown",
   "id": "3060d968",
   "metadata": {},
   "source": [
    "### 5. How do you access the element at the third row and fourth column from the given numpy array?"
   ]
  },
  {
   "cell_type": "code",
   "execution_count": 9,
   "id": "69044382",
   "metadata": {},
   "outputs": [
    {
     "data": {
      "text/plain": [
       "[[1, 2, 3, 4], [5, 6, 7, 8], [9, 10, 11, 12]]"
      ]
     },
     "execution_count": 9,
     "metadata": {},
     "output_type": "execute_result"
    }
   ],
   "source": [
    "arr = [[1, 2, 3, 4],[5, 6, 7, 8],[9, 10, 11, 12]]\n",
    "arr"
   ]
  },
  {
   "cell_type": "code",
   "execution_count": 12,
   "id": "593961d9",
   "metadata": {},
   "outputs": [
    {
     "name": "stdout",
     "output_type": "stream",
     "text": [
      "The the element at the third row and fourth column from the given numpy array is: 12\n"
     ]
    }
   ],
   "source": [
    "print(\"The the element at the third row and fourth column from the given numpy array is:\", arr[2][3])"
   ]
  },
  {
   "cell_type": "markdown",
   "id": "ef4a5726",
   "metadata": {},
   "source": [
    "### 6. Write code to extract all odd-indexed elements from the given numpy array?"
   ]
  },
  {
   "cell_type": "code",
   "execution_count": 18,
   "id": "f6cd881e",
   "metadata": {},
   "outputs": [
    {
     "name": "stdout",
     "output_type": "stream",
     "text": [
      "Odd-indexed elements from the given numpy array are: [ 1  3  5  7  9 11]\n"
     ]
    }
   ],
   "source": [
    "arr = np.array([[1, 2, 3, 4],[5, 6, 7, 8],[9, 10, 11, 12]])\n",
    "odd_arr = arr[arr % 2 != 0] \n",
    "print(\"Odd-indexed elements from the given numpy array are:\",odd_arr)"
   ]
  },
  {
   "cell_type": "markdown",
   "id": "6500a8c9",
   "metadata": {},
   "source": [
    "### 7. How can you generate a random 3x3 matrix with values between 0 and 1?"
   ]
  },
  {
   "cell_type": "code",
   "execution_count": 25,
   "id": "3f360f97",
   "metadata": {},
   "outputs": [
    {
     "data": {
      "text/plain": [
       "array([[0.47984349, 0.11164482, 0.49286332],\n",
       "       [0.34066203, 0.37880683, 0.94615292],\n",
       "       [0.78371126, 0.75618111, 0.8066855 ]])"
      ]
     },
     "execution_count": 25,
     "metadata": {},
     "output_type": "execute_result"
    }
   ],
   "source": [
    "arr = np.random.rand(3,3)\n",
    "arr"
   ]
  },
  {
   "cell_type": "markdown",
   "id": "cf2fa867",
   "metadata": {},
   "source": [
    "### 8. Describe the difference between np.random.rand and np.random.randn?"
   ]
  },
  {
   "cell_type": "markdown",
   "id": "f6770fe7",
   "metadata": {},
   "source": [
    "*np.random.rand:*\n",
    "Generates random numbers from a uniform distribution over the interval [0, 1).\n",
    "Takes dimensions of the output array as arguments. For example, np.random.rand(3, 2) will generate a 3x2 array of random numbers.\n",
    "Each number in the output array is generated independently and uniformly from the interval [0, 1).\n",
    "All elements in the output array are positive."
   ]
  },
  {
   "cell_type": "code",
   "execution_count": 26,
   "id": "a6abe5cc",
   "metadata": {},
   "outputs": [],
   "source": [
    "arr1 = np.random.rand(3,3)"
   ]
  },
  {
   "cell_type": "code",
   "execution_count": 27,
   "id": "cd15b676",
   "metadata": {},
   "outputs": [
    {
     "data": {
      "text/plain": [
       "array([[0.33229451, 0.45611319, 0.39845564],\n",
       "       [0.31877851, 0.46584545, 0.15200844],\n",
       "       [0.70269573, 0.95629588, 0.74651478]])"
      ]
     },
     "execution_count": 27,
     "metadata": {},
     "output_type": "execute_result"
    }
   ],
   "source": [
    "arr1"
   ]
  },
  {
   "cell_type": "markdown",
   "id": "07507b96",
   "metadata": {},
   "source": [
    "*np.random.randn:*\n",
    "Generates random numbers from a standard normal distribution (mean=0, standard deviation=1).\n",
    "Takes dimensions of the output array as arguments, similar to np.random.rand.\n",
    "Each number in the output array is drawn independently from a normal distribution with mean 0 and standard deviation 1.\n",
    "The generated numbers can be positive or negative, and their distribution follows the bell-shaped curve of a standard normal distribution."
   ]
  },
  {
   "cell_type": "code",
   "execution_count": null,
   "id": "cf120e3f",
   "metadata": {},
   "outputs": [],
   "source": [
    "arr2 = np.random.randn(3,3)"
   ]
  },
  {
   "cell_type": "code",
   "execution_count": 28,
   "id": "b66a502b",
   "metadata": {},
   "outputs": [
    {
     "data": {
      "text/plain": [
       "array([[-0.66499569,  0.7533573 , -0.48690184],\n",
       "       [-0.8837031 ,  0.27844271, -1.10504218],\n",
       "       [-1.22776238, -0.20632482, -0.5508913 ]])"
      ]
     },
     "execution_count": 28,
     "metadata": {},
     "output_type": "execute_result"
    }
   ],
   "source": [
    "arr2"
   ]
  },
  {
   "cell_type": "markdown",
   "id": "8ffb0b74",
   "metadata": {},
   "source": [
    "### 9. Write code to increase the dimension of the following array?"
   ]
  },
  {
   "cell_type": "code",
   "execution_count": 30,
   "id": "b9e7047a",
   "metadata": {},
   "outputs": [
    {
     "data": {
      "text/plain": [
       "[[1, 2, 3, 4], [5, 6, 7, 8], [9, 10, 11, 12]]"
      ]
     },
     "execution_count": 30,
     "metadata": {},
     "output_type": "execute_result"
    }
   ],
   "source": [
    "arr = [[1, 2, 3, 4],[5, 6, 7, 8],[9, 10, 11, 12]]\n",
    "arr"
   ]
  },
  {
   "cell_type": "code",
   "execution_count": 32,
   "id": "9dd2a138",
   "metadata": {},
   "outputs": [
    {
     "data": {
      "text/plain": [
       "(3, 4)"
      ]
     },
     "execution_count": 32,
     "metadata": {},
     "output_type": "execute_result"
    }
   ],
   "source": [
    "np.shape(arr)"
   ]
  },
  {
   "cell_type": "code",
   "execution_count": 34,
   "id": "c1707e48",
   "metadata": {},
   "outputs": [],
   "source": [
    "arr1 = np.resize(arr, (6,2))"
   ]
  },
  {
   "cell_type": "code",
   "execution_count": 35,
   "id": "f3843a23",
   "metadata": {},
   "outputs": [
    {
     "data": {
      "text/plain": [
       "array([[ 1,  2],\n",
       "       [ 3,  4],\n",
       "       [ 5,  6],\n",
       "       [ 7,  8],\n",
       "       [ 9, 10],\n",
       "       [11, 12]])"
      ]
     },
     "execution_count": 35,
     "metadata": {},
     "output_type": "execute_result"
    }
   ],
   "source": [
    "arr1"
   ]
  },
  {
   "cell_type": "code",
   "execution_count": 37,
   "id": "54a5d99e",
   "metadata": {},
   "outputs": [
    {
     "data": {
      "text/plain": [
       "2"
      ]
     },
     "execution_count": 37,
     "metadata": {},
     "output_type": "execute_result"
    }
   ],
   "source": [
    "arr1.ndim"
   ]
  },
  {
   "cell_type": "code",
   "execution_count": 39,
   "id": "791b84ec",
   "metadata": {},
   "outputs": [
    {
     "data": {
      "text/plain": [
       "(6, 2)"
      ]
     },
     "execution_count": 39,
     "metadata": {},
     "output_type": "execute_result"
    }
   ],
   "source": [
    "arr1.shape"
   ]
  },
  {
   "cell_type": "markdown",
   "id": "a1ede41e",
   "metadata": {},
   "source": [
    "### 10. How to transpose the following array in NumPy?"
   ]
  },
  {
   "cell_type": "code",
   "execution_count": 44,
   "id": "7c06d24a",
   "metadata": {},
   "outputs": [
    {
     "data": {
      "text/plain": [
       "array([[ 1,  2,  3,  4],\n",
       "       [ 5,  6,  7,  8],\n",
       "       [ 9, 10, 11, 12]])"
      ]
     },
     "execution_count": 44,
     "metadata": {},
     "output_type": "execute_result"
    }
   ],
   "source": [
    "arr = np.array([[1, 2, 3, 4],[5, 6, 7, 8],[9, 10, 11, 12]])\n",
    "arr"
   ]
  },
  {
   "cell_type": "code",
   "execution_count": 45,
   "id": "1b14e628",
   "metadata": {},
   "outputs": [],
   "source": [
    "arr_t = arr.T"
   ]
  },
  {
   "cell_type": "code",
   "execution_count": 46,
   "id": "bacbb2b1",
   "metadata": {},
   "outputs": [
    {
     "data": {
      "text/plain": [
       "array([[ 1,  5,  9],\n",
       "       [ 2,  6, 10],\n",
       "       [ 3,  7, 11],\n",
       "       [ 4,  8, 12]])"
      ]
     },
     "execution_count": 46,
     "metadata": {},
     "output_type": "execute_result"
    }
   ],
   "source": [
    "arr_t"
   ]
  },
  {
   "cell_type": "markdown",
   "id": "f5797071",
   "metadata": {},
   "source": [
    "### 11. Consider the following matrix:"
   ]
  },
  {
   "cell_type": "code",
   "execution_count": 54,
   "id": "49356acc",
   "metadata": {},
   "outputs": [],
   "source": [
    "Matrix_A = np.array([[1, 2, 3, 4],[5, 6, 7, 8],[9, 10, 11, 12]])\n",
    "Matrix_B = np.array([[1, 2, 3, 4],[5, 6, 7, 8],[9, 10, 11, 12]])"
   ]
  },
  {
   "cell_type": "code",
   "execution_count": 68,
   "id": "c9fc8b14",
   "metadata": {},
   "outputs": [
    {
     "name": "stdout",
     "output_type": "stream",
     "text": [
      "Index wise multiplication is:\n"
     ]
    },
    {
     "data": {
      "text/plain": [
       "array([[  1,   4,   9,  16],\n",
       "       [ 25,  36,  49,  64],\n",
       "       [ 81, 100, 121, 144]])"
      ]
     },
     "execution_count": 68,
     "metadata": {},
     "output_type": "execute_result"
    }
   ],
   "source": [
    "print(\"Index wise multiplication is:\")\n",
    "Matrix_A * Matrix_B"
   ]
  },
  {
   "cell_type": "code",
   "execution_count": 69,
   "id": "f302a926",
   "metadata": {},
   "outputs": [
    {
     "name": "stdout",
     "output_type": "stream",
     "text": [
      "Matrix Multiplication is:\n"
     ]
    },
    {
     "data": {
      "text/plain": [
       "array([[ 30,  70, 110],\n",
       "       [ 70, 174, 278],\n",
       "       [110, 278, 446]])"
      ]
     },
     "execution_count": 69,
     "metadata": {},
     "output_type": "execute_result"
    }
   ],
   "source": [
    "print(\"Matrix Multiplication is:\")\n",
    "np.matmul(Matrix_A, Matrix_B.T) # Tranpose Matrix_B to match dimensions"
   ]
  },
  {
   "cell_type": "code",
   "execution_count": 70,
   "id": "5b3bc610",
   "metadata": {},
   "outputs": [
    {
     "name": "stdout",
     "output_type": "stream",
     "text": [
      "Addition is:\n"
     ]
    },
    {
     "data": {
      "text/plain": [
       "array([[ 2,  4,  6,  8],\n",
       "       [10, 12, 14, 16],\n",
       "       [18, 20, 22, 24]])"
      ]
     },
     "execution_count": 70,
     "metadata": {},
     "output_type": "execute_result"
    }
   ],
   "source": [
    "print(\"Addition is:\")\n",
    "Matrix_A + Matrix_B"
   ]
  },
  {
   "cell_type": "code",
   "execution_count": 71,
   "id": "9eda93d5",
   "metadata": {},
   "outputs": [
    {
     "name": "stdout",
     "output_type": "stream",
     "text": [
      "Subtraction is:\n"
     ]
    },
    {
     "data": {
      "text/plain": [
       "array([[0, 0, 0, 0],\n",
       "       [0, 0, 0, 0],\n",
       "       [0, 0, 0, 0]])"
      ]
     },
     "execution_count": 71,
     "metadata": {},
     "output_type": "execute_result"
    }
   ],
   "source": [
    "print(\"Subtraction is:\")\n",
    "Matrix_B - Matrix_A"
   ]
  },
  {
   "cell_type": "code",
   "execution_count": 72,
   "id": "4155b487",
   "metadata": {},
   "outputs": [
    {
     "name": "stdout",
     "output_type": "stream",
     "text": [
      "Division is:\n"
     ]
    },
    {
     "data": {
      "text/plain": [
       "array([[1., 1., 1., 1.],\n",
       "       [1., 1., 1., 1.],\n",
       "       [1., 1., 1., 1.]])"
      ]
     },
     "execution_count": 72,
     "metadata": {},
     "output_type": "execute_result"
    }
   ],
   "source": [
    "print(\"Division is:\")\n",
    "Matrix_B / Matrix_A"
   ]
  },
  {
   "cell_type": "markdown",
   "id": "09bcf880",
   "metadata": {},
   "source": [
    "### 12. Which function in Numpy can be used to swap the byte order of an array?"
   ]
  },
  {
   "cell_type": "code",
   "execution_count": 73,
   "id": "003bfbae",
   "metadata": {},
   "outputs": [
    {
     "data": {
      "text/plain": [
       "array([1, 2, 3, 4, 5, 6])"
      ]
     },
     "execution_count": 73,
     "metadata": {},
     "output_type": "execute_result"
    }
   ],
   "source": [
    "arr = np.array([1,2,3,4,5,6])\n",
    "arr"
   ]
  },
  {
   "cell_type": "code",
   "execution_count": 74,
   "id": "a174fd88",
   "metadata": {},
   "outputs": [
    {
     "data": {
      "text/plain": [
       "array([ 72057594037927936, 144115188075855872, 216172782113783808,\n",
       "       288230376151711744, 360287970189639680, 432345564227567616])"
      ]
     },
     "execution_count": 74,
     "metadata": {},
     "output_type": "execute_result"
    }
   ],
   "source": [
    "arr.byteswap()"
   ]
  },
  {
   "cell_type": "markdown",
   "id": "5b5318ec",
   "metadata": {},
   "source": [
    "### 13. What is the significance of the np.linalg.inv function?"
   ]
  },
  {
   "cell_type": "code",
   "execution_count": 79,
   "id": "c72096cb",
   "metadata": {},
   "outputs": [
    {
     "data": {
      "text/plain": [
       "array([[1, 2],\n",
       "       [3, 4]])"
      ]
     },
     "execution_count": 79,
     "metadata": {},
     "output_type": "execute_result"
    }
   ],
   "source": [
    "arr = np.array([[1,2],[3,4]])\n",
    "arr"
   ]
  },
  {
   "cell_type": "code",
   "execution_count": 80,
   "id": "2f3e96fe",
   "metadata": {},
   "outputs": [
    {
     "data": {
      "text/plain": [
       "array([[-2. ,  1. ],\n",
       "       [ 1.5, -0.5]])"
      ]
     },
     "execution_count": 80,
     "metadata": {},
     "output_type": "execute_result"
    }
   ],
   "source": [
    "np.linalg.inv(arr)"
   ]
  },
  {
   "cell_type": "markdown",
   "id": "a783c341",
   "metadata": {},
   "source": [
    "### 14. What does the np.reshape function do, and how is it used?"
   ]
  },
  {
   "cell_type": "markdown",
   "id": "a7432b92",
   "metadata": {},
   "source": [
    "- The np.reshape() function in NumPy is used to change the shape of an array without changing its data. It allows you to reorganize the elements of an array into a new shape, as long as the total number of elements remains the same. This function does not alter the original array; instead, it returns a new reshaped array."
   ]
  },
  {
   "cell_type": "code",
   "execution_count": 81,
   "id": "547f9464",
   "metadata": {},
   "outputs": [
    {
     "data": {
      "text/plain": [
       "array([[1, 2],\n",
       "       [3, 4]])"
      ]
     },
     "execution_count": 81,
     "metadata": {},
     "output_type": "execute_result"
    }
   ],
   "source": [
    "arr"
   ]
  },
  {
   "cell_type": "code",
   "execution_count": 82,
   "id": "af565498",
   "metadata": {},
   "outputs": [
    {
     "data": {
      "text/plain": [
       "(2, 2)"
      ]
     },
     "execution_count": 82,
     "metadata": {},
     "output_type": "execute_result"
    }
   ],
   "source": [
    "np.shape(arr)"
   ]
  },
  {
   "cell_type": "code",
   "execution_count": 85,
   "id": "2932876a",
   "metadata": {},
   "outputs": [
    {
     "data": {
      "text/plain": [
       "array([[1],\n",
       "       [2],\n",
       "       [3],\n",
       "       [4]])"
      ]
     },
     "execution_count": 85,
     "metadata": {},
     "output_type": "execute_result"
    }
   ],
   "source": [
    "np.reshape(arr, (4,1))"
   ]
  },
  {
   "cell_type": "markdown",
   "id": "09a38793",
   "metadata": {},
   "source": [
    "### 15. What is broadcasting in Numpy?"
   ]
  },
  {
   "cell_type": "markdown",
   "id": "3ebfcdc0",
   "metadata": {},
   "source": [
    " - Broadcasting in NumPy is a powerful mechanism that allows arrays with different shapes to be combined in arithmetic operations. When performing element-wise operations (such as addition, subtraction, multiplication, division, etc.) on arrays with different shapes, NumPy automatically broadcasts the arrays to make their shapes compatible."
   ]
  },
  {
   "cell_type": "code",
   "execution_count": 86,
   "id": "43f0eda9",
   "metadata": {},
   "outputs": [],
   "source": [
    "arr = np.zeros((4,4))"
   ]
  },
  {
   "cell_type": "code",
   "execution_count": 87,
   "id": "3fa0d651",
   "metadata": {},
   "outputs": [
    {
     "data": {
      "text/plain": [
       "array([[0., 0., 0., 0.],\n",
       "       [0., 0., 0., 0.],\n",
       "       [0., 0., 0., 0.],\n",
       "       [0., 0., 0., 0.]])"
      ]
     },
     "execution_count": 87,
     "metadata": {},
     "output_type": "execute_result"
    }
   ],
   "source": [
    "arr"
   ]
  },
  {
   "cell_type": "code",
   "execution_count": 88,
   "id": "831a2cff",
   "metadata": {},
   "outputs": [],
   "source": [
    "row = np.array([1,2,3,4])"
   ]
  },
  {
   "cell_type": "code",
   "execution_count": 89,
   "id": "06928bf7",
   "metadata": {},
   "outputs": [
    {
     "data": {
      "text/plain": [
       "array([1, 2, 3, 4])"
      ]
     },
     "execution_count": 89,
     "metadata": {},
     "output_type": "execute_result"
    }
   ],
   "source": [
    "row"
   ]
  },
  {
   "cell_type": "code",
   "execution_count": 91,
   "id": "e9338bf9",
   "metadata": {},
   "outputs": [
    {
     "data": {
      "text/plain": [
       "array([[1., 2., 3., 4.],\n",
       "       [1., 2., 3., 4.],\n",
       "       [1., 2., 3., 4.],\n",
       "       [1., 2., 3., 4.]])"
      ]
     },
     "execution_count": 91,
     "metadata": {},
     "output_type": "execute_result"
    }
   ],
   "source": [
    "arr + row # row will get in each row"
   ]
  }
 ],
 "metadata": {
  "kernelspec": {
   "display_name": "Python 3 (ipykernel)",
   "language": "python",
   "name": "python3"
  },
  "language_info": {
   "codemirror_mode": {
    "name": "ipython",
    "version": 3
   },
   "file_extension": ".py",
   "mimetype": "text/x-python",
   "name": "python",
   "nbconvert_exporter": "python",
   "pygments_lexer": "ipython3",
   "version": "3.11.7"
  }
 },
 "nbformat": 4,
 "nbformat_minor": 5
}
